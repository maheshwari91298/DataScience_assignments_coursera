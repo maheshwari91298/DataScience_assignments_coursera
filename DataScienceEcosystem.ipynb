{
 "cells": [
  {
   "cell_type": "markdown",
   "id": "4dfb8b2b-00e3-46b5-9e29-5bdc9543353f",
   "metadata": {},
   "source": [
    "#Data Science Tools and Ecosystem"
   ]
  },
  {
   "cell_type": "markdown",
   "id": "d61a26db-8bb3-4488-852b-b23d018a0ebc",
   "metadata": {},
   "source": [
    "In this notebook, Data Science Tools and Ecosystem are summarized."
   ]
  },
  {
   "cell_type": "markdown",
   "id": "2bb6b0c3-a711-4d9f-9a88-41f7f53f45a0",
   "metadata": {
    "tags": []
   },
   "source": [
    "Some of the popular languages that Data Scientists use are:\n",
    "\n",
    "1.python\n",
    "2.ruby\n",
    "3.scala\n",
    "4.c++\n",
    "5.R"
   ]
  },
  {
   "cell_type": "markdown",
   "id": "37e3261e-026c-42e2-a98a-c2b9c6fe1141",
   "metadata": {},
   "source": [
    "Some of the popular languages that Data Scientists use are:\n",
    "\n",
    "1.python \n",
    "2.ruby \n",
    "3.scala \n",
    "4.c++ \n",
    "5.R"
   ]
  },
  {
   "cell_type": "markdown",
   "id": "da1b778a-f9f3-4a71-bbc0-e0b18a7873dd",
   "metadata": {},
   "source": [
    "List popular languages for Data Science\n",
    "- python\n",
    "- ruby\n",
    "- scala"
   ]
  },
  {
   "cell_type": "markdown",
   "id": "e5c43966-16bf-47b0-842f-3014cf9e3d58",
   "metadata": {},
   "source": [
    "Some of the popular libaraies that Data Scientists use are:\n",
    "\n",
    "1. Numpy\n",
    "2. sci-lit\n",
    "3. panda"
   ]
  },
  {
   "cell_type": "markdown",
   "id": "e6729810-21a4-46e9-a5bd-9eebe7cba4d8",
   "metadata": {},
   "source": [
    "| Data Science Tools |\n",
    "|--------------------|\n",
    "|Anaconda|\n",
    "|Jupyter Notebook and Lab|\n",
    "|R Launguage|\n",
    " "
   ]
  },
  {
   "cell_type": "markdown",
   "id": "4572abff-0b19-4ff7-852e-adfb5140c5a9",
   "metadata": {},
   "source": [
    "### Below are a few examples of evaluating arithmetic expressions in Python"
   ]
  },
  {
   "cell_type": "code",
   "execution_count": 4,
   "id": "5aac1170-be1c-459c-abb5-08865b533df5",
   "metadata": {
    "tags": []
   },
   "outputs": [
    {
     "data": {
      "text/plain": [
       "17"
      ]
     },
     "execution_count": 4,
     "metadata": {},
     "output_type": "execute_result"
    }
   ],
   "source": [
    "(3*4)+5\n",
    "#This a simple arithmetic expression to mutiply then add integers"
   ]
  },
  {
   "cell_type": "code",
   "execution_count": 5,
   "id": "20cc2e7d-e7fc-4f3e-af7b-48d1e2db53d7",
   "metadata": {
    "tags": []
   },
   "outputs": [
    {
     "data": {
      "text/plain": [
       "3.3333333333333335"
      ]
     },
     "execution_count": 5,
     "metadata": {},
     "output_type": "execute_result"
    }
   ],
   "source": [
    "200/60\n",
    "#This will convert 200 minutes to hours by diving by 60"
   ]
  },
  {
   "cell_type": "markdown",
   "id": "a5e0fa94-2192-46b6-b03b-e180d9bf3369",
   "metadata": {},
   "source": [
    "## Author \n",
    "Maheshwari"
   ]
  },
  {
   "cell_type": "code",
   "execution_count": null,
   "id": "159aaf7c-8cb7-4f4f-a457-489d3de01a02",
   "metadata": {},
   "outputs": [],
   "source": []
  }
 ],
 "metadata": {
  "kernelspec": {
   "display_name": "Python",
   "language": "python",
   "name": "conda-env-python-py"
  },
  "language_info": {
   "codemirror_mode": {
    "name": "ipython",
    "version": 3
   },
   "file_extension": ".py",
   "mimetype": "text/x-python",
   "name": "python",
   "nbconvert_exporter": "python",
   "pygments_lexer": "ipython3",
   "version": "3.7.12"
  }
 },
 "nbformat": 4,
 "nbformat_minor": 5
}
